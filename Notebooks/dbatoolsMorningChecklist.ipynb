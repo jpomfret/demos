{
    "metadata": {
        "kernelspec": {
            "name": "powershell",
            "display_name": "PowerShell"
        },
        "language_info": {
            "name": "powershell",
            "codemirror_mode": "shell",
            "mimetype": "text/x-sh",
            "file_extension": ".ps1"
        }
    },
    "nbformat_minor": 2,
    "nbformat": 4,
    "cells": [
        {
            "cell_type": "markdown",
            "source": [
                "# dbatools Morning Checklist"
            ],
            "metadata": {
                "azdata_cell_guid": "cfedcade-dc5a-4cfc-ba5e-9ccb979ad0f7"
            }
        },
        {
            "cell_type": "markdown",
            "source": [
                "Here's a sample PowerShell notebook showing how you can use dbatools to do a quick morning check-in of your SQL Server estate."
            ],
            "metadata": {
                "azdata_cell_guid": "4c9cde0a-f9cf-411c-b1b2-cc44b66ea2e5"
            }
        },
        {
            "cell_type": "markdown",
            "source": [
                "## First let's get setup\r\n",
                "- Import the dbatools module\r\n",
                "- Store our list of servers in a variable\r\n",
                "  - I'm using `Get-DbaRegisteredServer` to use my registered server list, but you could also manually specify server names or use `Import-Csv` to get them from a CSV file.\r\n",
                ""
            ],
            "metadata": {
                "azdata_cell_guid": "c038eeba-2ab3-49cf-b9ac-0f8dfe2f4a16"
            }
        },
        {
            "cell_type": "code",
            "source": [
                "Import-Module dbatools\r\n",
                "\r\n",
                "$servers = Get-DbaRegisteredServer -Group Sqlserver\r\n",
                "\r\n",
                "$servers"
            ],
            "metadata": {
                "azdata_cell_guid": "68eaf790-8b9a-494e-ad93-e707fa7570cd",
                "tags": []
            },
            "outputs": [
                {
                    "name": "stdout",
                    "text": "\nName   ServerName Group     Description Source             \n----   ---------- -----     ----------- ------             \nmssql1 mssql1     SqlServer             Local Server Groups\nmssql2 mssql2     SqlServer             Local Server Groups\n\n\n",
                    "output_type": "stream"
                }
            ],
            "execution_count": 1
        },
        {
            "cell_type": "markdown",
            "source": [
                "## 1. Check SQL Server Backups"
            ],
            "metadata": {
                "azdata_cell_guid": "89e1614f-a6a8-4684-8fce-9a5f69002b1e"
            }
        },
        {
            "cell_type": "markdown",
            "source": [
                "First we'll use dbatools to check on all our database backups."
            ],
            "metadata": {
                "azdata_cell_guid": "ab51c780-0492-46e4-96d9-88eb2777825b"
            }
        },
        {
            "cell_type": "code",
            "source": [
                "Get-DbaLastBackup -SqlInstance $servers | \r\n",
                "Format-Table SqlInstance, Database, LastFullBackup, LastDiffBackup, LastLogBackup -AutoSize"
            ],
            "metadata": {
                "azdata_cell_guid": "e40bc4cf-aff9-464c-9323-0feb1eaea79b"
            },
            "outputs": [
                {
                    "output_type": "stream",
                    "name": "stdout",
                    "text": "\nSqlInstance Database           LastFullBackup          LastDiffBackup          LastLogBackup          \n----------- --------           --------------          --------------          -------------          \nmssql1      AdventureWorks2017 2019-12-18 05:46:10.000                                                \nmssql1      DatabaseAdmin      2019-12-18 05:46:25.000                                                \nmssql1      master                                                                                    \nmssql1      model                                                                                     \nmssql1      msdb                                                                                      \nmssql2      AdventureWorks2019                                                                        \nmssql2      master             2019-12-18 05:46:19.000                                                \nmssql2      model              2019-12-18 05:46:20.000 2019-12-18 05:46:22.000 2019-12-18 05:46:24.000\nmssql2      msdb               2019-12-18 05:46:21.000 2019-12-18 05:46:23.000                        \n\n\n"
                }
            ],
            "execution_count": 2
        },
        {
            "cell_type": "markdown",
            "source": [
                "You could also use the PowerShell `Where-Object` to filter out the databases that meet your backup requirements. \r\n",
                "\r\n",
                "In this instance:\r\n",
                " - Full backup within the last 7 days\r\n",
                " - Differential backup within the last 1 day"
            ],
            "metadata": {
                "azdata_cell_guid": "5092aaab-245f-4dd5-b386-327ce97e414d"
            }
        },
        {
            "cell_type": "code",
            "source": [
                "Get-DbaLastBackup -SqlInstance $servers | \r\n",
                "Where-Object {($_.LastFullBackup.Date -lt ((Get-Date).AddDays(-7))) `\r\n",
                "-or ($_.LastDiffBackup.Date -lt ((Get-Date).AddDays(-1)))} |\r\n",
                "Format-Table SqlInstance, Database, LastFullBackup, LastDiffBackup, RecoveryModel -AutoSize"
            ],
            "metadata": {
                "azdata_cell_guid": "60041955-9c3d-4b85-be09-2ca763a6761b",
                "tags": []
            },
            "outputs": [
                {
                    "output_type": "stream",
                    "name": "stdout",
                    "text": "\nSqlInstance Database           LastFullBackup          LastDiffBackup RecoveryModel\n----------- --------           --------------          -------------- -------------\nmssql1      AdventureWorks2017 2019-12-18 05:46:10.000                       Simple\nmssql1      DatabaseAdmin      2019-12-18 05:46:25.000                         Full\nmssql1      master                                                           Simple\nmssql1      model                                                              Full\nmssql1      msdb                                                             Simple\nmssql2      AdventureWorks2019                                               Simple\nmssql2      master             2019-12-18 05:46:19.000                       Simple\n\n\n"
                }
            ],
            "execution_count": 3
        },
        {
            "cell_type": "markdown",
            "source": [
                "## 2. Check Last Good DBCC Checks"
            ],
            "metadata": {
                "azdata_cell_guid": "5e174148-a378-4b7a-a137-cf63cdbbe61d"
            }
        },
        {
            "cell_type": "markdown",
            "source": [
                "For step two we'll make sure we're running DBCC CheckDb regularly against our databases."
            ],
            "metadata": {
                "azdata_cell_guid": "55bc4045-eae6-41b5-9759-81288e7e9719"
            }
        },
        {
            "cell_type": "code",
            "source": [
                "(Get-DbaLastGoodCheckDb -SqlInstance $servers -ExcludeDatabase tempdb).where({$_.Status -ne 'OK'}) |\r\n",
                "Format-Table SqlInstance, Database, DaysSinceLastGoodCheckDb, Status, DataPurityEnabled -Autosize"
            ],
            "metadata": {
                "azdata_cell_guid": "2739d950-90cd-4c33-b0a5-61a5dfcef478"
            },
            "outputs": [
                {
                    "name": "stdout",
                    "text": "\nSqlInstance Database           DaysSinceLastGoodCheckDb Status                        DataPurityEnabled\n----------- --------           ------------------------ ------                        -----------------\nmssql1      master                                      CheckDB should be performed                True\nmssql1      model                                       CheckDB should be performed                True\nmssql2      master                                      CheckDB should be performed                True\nmssql2      model                                       CheckDB should be performed                True\nmssql2      msdb                                        CheckDB should be performed                True\nmssql2      AdventureWorks2019                          New database, not checked yet              True\n\n\n",
                    "output_type": "stream"
                }
            ],
            "execution_count": 2
        },
        {
            "cell_type": "markdown",
            "source": [
                "## 3. Check for Failed Jobs"
            ],
            "metadata": {
                "azdata_cell_guid": "15da6aeb-9c9e-4da1-b361-0f41eefbe664"
            }
        },
        {
            "cell_type": "markdown",
            "source": [
                "We can also check across our entire SQL Server estate for any failed jobs."
            ],
            "metadata": {
                "azdata_cell_guid": "b690dd1c-92f3-46a3-8d6a-08cdcaf261b3"
            }
        },
        {
            "cell_type": "code",
            "source": [
                "Get-DbaAgentJob -SqlInstance $servers -ExcludeDisabledJobs | \n",
                "Where-Object LastRunOutcome -ne 'Succeeded' | \n",
                "Format-Table SqlInstance, Name, LastRunDate, LastRunOutcome"
            ],
            "metadata": {
                "azdata_cell_guid": "593055de-fcd2-4139-8585-353e25bf1b8c"
            },
            "outputs": [
                {
                    "name": "stdout",
                    "text": "\nSqlInstance Name            LastRunDate          LastRunOutcome\n----------- ----            -----------          --------------\nmssql1      ImportantETLJob 1/1/0001 12:00:00 AM        Unknown\nmssql2      DailyReport     3/30/2020 2:02:40 PM         Failed\n\n\n",
                    "output_type": "stream"
                }
            ],
            "execution_count": 3
        },
        {
            "cell_type": "markdown",
            "source": [
                "## 4. Check SQL Server Error Log Messages"
            ],
            "metadata": {
                "azdata_cell_guid": "86a78a5e-8439-437b-ab17-c5f62a93f645"
            }
        },
        {
            "cell_type": "markdown",
            "source": [
                "There is also a lot of useful information in the SQL Server Error Log that dbatools can help you look into. We can look at all error log entries."
            ],
            "metadata": {
                "azdata_cell_guid": "74518b09-7af9-4ec7-807a-316c92b4247e"
            }
        },
        {
            "cell_type": "code",
            "source": [
                "Get-DbaErrorLog -SqlInstance $servers -After (get-date).AddDays(-1) |\r\n",
                "Select-object -First 10 | # I'm only showing the first 10 for sake of space in this demo, remove this for real use cases. \r\n",
                "Format-Table LogDate, SqlInstance, SqlInstance, Source, Text "
            ],
            "metadata": {
                "azdata_cell_guid": "d3d6b764-bf15-4565-b644-325f7df7c72d",
                "tags": []
            },
            "outputs": [
                {
                    "output_type": "stream",
                    "name": "stdout",
                    "text": "\nLogDate               SqlInstance SqlInstance Source Text                                                              \n-------               ----------- ----------- ------ ----                                                              \n12/18/2019 5:45:28 AM mssql1      mssql1      Server Microsoft SQL Server 2017 (RTM-CU11) (KB4462262) - 14.0.3038.14...\n12/18/2019 5:45:28 AM mssql1      mssql1      Server UTC adjustment: -5:00                                             \n12/18/2019 5:45:28 AM mssql1      mssql1      Server (c) Microsoft Corporation.                                        \n12/18/2019 5:45:28 AM mssql1      mssql1      Server All rights reserved.                                              \n12/18/2019 5:45:28 AM mssql1      mssql1      Server Server process ID is 4120.                                        \n12/18/2019 5:45:28 AM mssql1      mssql1      Server Logging SQL Server messages in file '/var/opt/mssql/log/errorlog'.\n12/18/2019 5:45:28 AM mssql1      mssql1      Server Registry startup parameters: ...                                  \n12/18/2019 5:45:29 AM mssql1      mssql1      Server SQL Server detected 1 sockets with 1 cores per socket and 3 log...\n12/18/2019 5:45:29 AM mssql1      mssql1      Server SQL Server is starting at normal priority base (=7). This is an...\n12/18/2019 5:45:29 AM mssql1      mssql1      Server Detected 3144 MB of RAM. This is an informational message; no u...\n\n\n"
                }
            ],
            "execution_count": 6
        },
        {
            "cell_type": "markdown",
            "source": [
                "We can also filter to look for specific issues, like login failures."
            ],
            "metadata": {
                "azdata_cell_guid": "9066d762-14fa-441b-99f8-32d08b0fab31"
            }
        },
        {
            "cell_type": "code",
            "source": [
                "Get-DbaErrorLog -SqlInstance $servers -After (get-date).AddDays(-1) -Text \"Login Failed\" |\r\n",
                "Format-Table LogDate, SqlInstance, SqlInstance, Source, Text"
            ],
            "metadata": {
                "azdata_cell_guid": "dea56453-9ad5-4781-adf5-7e40e1957738",
                "tags": []
            },
            "outputs": [
                {
                    "output_type": "stream",
                    "name": "stdout",
                    "text": "\nLogDate               SqlInstance SqlInstance Source Text                                                              \n-------               ----------- ----------- ------ ----                                                              \n12/18/2019 6:00:59 AM mssql1      mssql1      Logon  Login failed for user 'sa'. Reason: Password did not match that...\n12/18/2019 6:01:13 AM mssql1      mssql1      Logon  Login failed for user 'BadLogin'. Reason: Could not find a logi...\n\n\n"
                }
            ],
            "execution_count": 7
        },
        {
            "cell_type": "markdown",
            "source": [
                "## 5. Add your custom checks\r\n",
                "\r\n",
                "Perhaps in your environment you have additional things to check.\r\n",
                "\r\n",
                "- **Get-DbaAvailabilityGroup** - Check your availability groups and determine which node is primary \r\n",
                "- **Get-DbaDiskSpace** - Check the available disk space on your servers and ensure you're not close to running out\r\n",
                "- **Test-DbaDbOwner** - Make sure all your databases are owned by sa, or specify an owner with the `-TargetLogin` Parameter\r\n",
                "- **Test-DbaDbRecoveryModel** - Check your database recovery models are as expected, including not in pseudo simple mode\r\n",
                "- **Test-DbaRepLatency** - Test replication latency with tracer tokens\r\n",
                ""
            ],
            "metadata": {
                "azdata_cell_guid": "917403ed-9cb7-4f3c-9d04-6e6802a3c18e"
            }
        }
    ]
}
